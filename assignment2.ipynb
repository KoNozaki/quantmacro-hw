{
  "cells": [
    {
      "cell_type": "markdown",
      "metadata": {
        "id": "view-in-github",
        "colab_type": "text"
      },
      "source": [
        "<a href=\"https://colab.research.google.com/github/KoNozaki/quantmacro-hw/blob/main/assignment2.ipynb\" target=\"_parent\"><img src=\"https://colab.research.google.com/assets/colab-badge.svg\" alt=\"Open In Colab\"/></a>"
      ]
    },
    {
      "cell_type": "markdown",
      "id": "44973271",
      "metadata": {
        "id": "44973271"
      },
      "source": [
        "# 2 経済成長\n",
        "\n",
        "労働生産性の成長率を、技術進歩(TFP)と資本深化(capital deepening)に分解する成長会計を実行するプログラムを書いて提出してください(ipynbでPythonを推奨)。\n",
        "\n",
        "対象国は”France”, ”Germany”, ”Canada”, ”Italy”, ”Japan”, ”United Kingdom”, ”United States”。 \n",
        "\n",
        "サンプル期間は1995年から2019年。\n",
        "\n",
        "プログラムが最後まで走るかどうか、技術進歩(TFP)と資本深化(capital deepening)それぞれのレベルおよび寄与度について、Project2(growth accounting)にあるTable5.1のように結果を示しているかチェックします。"
      ]
    },
    {
      "cell_type": "code",
      "source": [
        "import pandas as pd\n",
        "\n",
        "# データをStata形式から読み込みます。\n",
        "pwt90 = pd.read_stata('https://www.rug.nl/ggdc/docs/pwt90.dta')\n",
        "\n",
        "# データから必要な列を抽出します。\n",
        "data = pwt90[['year', 'countrycode', 'rgdpna', 'rkna', 'pop', 'emp', 'avh', 'labsh', 'rtfpna']]\n",
        "\n",
        "# フィルタ条件として、年度が1995年以上かつ2019年以下のデータを選択します。欠損値を削除します。\n",
        "data = data.loc[(data['year'] >= 1995) & (data['year'] <= 2019)].dropna()\n",
        "\n",
        "# 対象国を指定します。\n",
        "target_countries = [\"FRA\", \"DEU\", \"CAN\", \"ITA\", \"JPN\", \"GBR\", \"USA\"]\n",
        "\n",
        "# 対象国のデータを抽出します。\n",
        "data = data.loc[data['countrycode'].isin(target_countries)]\n",
        "\n",
        "# 追加変数の計算\n",
        "data['alpha'] = 1 - data['labsh'] # 資本シェア割合\n",
        "data['y_n'] = data['rgdpna'] / data['emp'] # 実質GDP\n",
        "data['tfp_term'] = data['rtfpna'] ** (1 / (1 - data['alpha'])) \n",
        "data['cap_term'] = (data['rkna'] / data['rgdpna']) ** (data['alpha'] / (1 - data['alpha']))\n",
        "\n",
        "# データの整形\n",
        "data = data.sort_values('year').groupby('countrycode').apply(lambda x: x.assign(\n",
        "    alpha=1 - x['labsh'],\n",
        "    y_n_shifted=100 * x['y_n'] / x['y_n'].iloc[0],\n",
        "    tfp_term_shifted=100 * x['tfp_term'] / x['tfp_term'].iloc[0],\n",
        "    cap_term_shifted=100 * x['cap_term'] / x['cap_term'].iloc[0],\n",
        ")).reset_index(drop=True).dropna()\n",
        "\n",
        "# 'countrycode'でグループ化して統計量を計算\n",
        "grouped_data = data.groupby('countrycode')\n",
        "\n",
        "# 'Growth Rate'列を計算\n",
        "data['g'] = (grouped_data['y_n_shifted'].diff() * 100)\n",
        "\n",
        "# 'TFP Growth'列を計算\n",
        "data['tfp_g'] = (grouped_data['tfp_term_shifted'].diff() * 100)\n",
        "\n",
        "# 'Capital Deepening'列を計算\n",
        "data['capital_deepening'] = (grouped_data['cap_term_shifted'].diff() * 100)\n",
        "\n",
        "# 'TFP Share'列を計算\n",
        "data['tfp_share'] = data['tfp_term_shifted'] / (data['tfp_term_shifted'] + data['cap_term_shifted'])\n",
        "\n",
        "# 'Capital Share'列を計算\n",
        "data['capital_share'] = data['cap_term_shifted'] / (data['tfp_term_shifted'] + data['cap_term_shifted'])\n",
        "\n",
        "# 欠損値削除\n",
        "data = data.dropna()\n",
        "\n",
        "# 'countrycode'でグループ化して統計量を計算\n",
        "summary = data.groupby('countrycode').agg({\n",
        "    'g': 'mean',\n",
        "    'tfp_g': 'mean',\n",
        "    'capital_deepening': 'mean',\n",
        "    'tfp_share': 'mean',\n",
        "    'capital_share': 'mean'\n",
        "})\n",
        "\n",
        "# 列名を変更\n",
        "summary = summary.rename(columns={\n",
        "    'g': 'Growth Rate',\n",
        "    'tfp_g': 'TFP Growth',\n",
        "    'capital_deepening': 'Capital Deepening',\n",
        "    'tfp_share': 'TFP Share',\n",
        "    'capital_share': 'Capital Share'\n",
        "})\n",
        "\n",
        "# 結果を出力\n",
        "print(summary)\n",
        "\n",
        "# カラムの平均を計算して出力\n",
        "column_means = summary.mean()\n",
        "print(\"\\nAverage:\")\n",
        "print(column_means)"
      ],
      "metadata": {
        "id": "flMBLsGUkW7O",
        "outputId": "05a947dc-3a31-4a71-b24f-fc99dc4aa727",
        "colab": {
          "base_uri": "https://localhost:8080/"
        }
      },
      "id": "flMBLsGUkW7O",
      "execution_count": 2,
      "outputs": [
        {
          "output_type": "stream",
          "name": "stdout",
          "text": [
            "             Growth Rate  TFP Growth  Capital Deepening  TFP Share  \\\n",
            "countrycode                                                          \n",
            "CAN            79.997047   16.559118          69.537231   0.494033   \n",
            "DEU            73.696945   80.495018         105.138397   0.483141   \n",
            "FRA            88.586945   42.637955          15.293201   0.520700   \n",
            "GBR           122.854286  109.131462         -59.570068   0.571221   \n",
            "ITA             4.365740 -126.446777         121.346283   0.439414   \n",
            "JPN            99.276138    6.295415         235.091751   0.432560   \n",
            "USA           185.522858  174.879929          14.410722   0.552007   \n",
            "\n",
            "             Capital Share  \n",
            "countrycode                 \n",
            "CAN               0.505967  \n",
            "DEU               0.516859  \n",
            "FRA               0.479300  \n",
            "GBR               0.428779  \n",
            "ITA               0.560586  \n",
            "JPN               0.567439  \n",
            "USA               0.447993  \n",
            "\n",
            "Average:\n",
            "Growth Rate          93.471420\n",
            "TFP Growth           43.364590\n",
            "Capital Deepening    71.606789\n",
            "TFP Share             0.499011\n",
            "Capital Share         0.500989\n",
            "dtype: float32\n"
          ]
        },
        {
          "output_type": "stream",
          "name": "stderr",
          "text": [
            "<ipython-input-2-834d0f6aaef8>:25: FutureWarning: Not prepending group keys to the result index of transform-like apply. In the future, the group keys will be included in the index, regardless of whether the applied function returns a like-indexed object.\n",
            "To preserve the previous behavior, use\n",
            "\n",
            "\t>>> .groupby(..., group_keys=False)\n",
            "\n",
            "To adopt the future behavior and silence this warning, use \n",
            "\n",
            "\t>>> .groupby(..., group_keys=True)\n",
            "  data = data.sort_values('year').groupby('countrycode').apply(lambda x: x.assign(\n"
          ]
        }
      ]
    }
  ],
  "metadata": {
    "kernelspec": {
      "display_name": "Python 3 (ipykernel)",
      "language": "python",
      "name": "python3"
    },
    "language_info": {
      "codemirror_mode": {
        "name": "ipython",
        "version": 3
      },
      "file_extension": ".py",
      "mimetype": "text/x-python",
      "name": "python",
      "nbconvert_exporter": "python",
      "pygments_lexer": "ipython3",
      "version": "3.8.16"
    },
    "colab": {
      "provenance": [],
      "include_colab_link": true
    }
  },
  "nbformat": 4,
  "nbformat_minor": 5
}