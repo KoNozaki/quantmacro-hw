{
 "cells": [
  {
   "cell_type": "markdown",
<<<<<<< HEAD
   "id": "44973271",
=======
   "id": "a8bcd8f0",
>>>>>>> 4d4558c5e73e1bef17773ea8d63277e5c3b38c76
   "metadata": {},
   "source": [
    "# 2 経済成長\n",
    "\n",
    "労働生産性の成長率を、技術進歩(TFP)と資本深化(capital deepening)に分解する成長会計を実行するプログラムを書いて提出してください(ipynbでPythonを推奨)。\n",
    "\n",
    "対象国は”France”, ”Germany”, ”Canada”, ”Italy”, ”Japan”, ”United Kingdom”, ”United States”。 \n",
    "\n",
    "サンプル期間は1995年から2019年。\n",
    "\n",
    "プログラムが最後まで走るかどうか、技術進歩(TFP)と資本深化(capital deepening)それぞれのレベルおよび寄与度について、Project2(growth accounting)にあるTable5.1のように結果を示しているかチェックします。"
   ]
  },
  {
   "cell_type": "code",
   "execution_count": null,
<<<<<<< HEAD
   "id": "3c00c60d",
=======
   "id": "192351ee",
>>>>>>> 4d4558c5e73e1bef17773ea8d63277e5c3b38c76
   "metadata": {},
   "outputs": [],
   "source": []
  }
 ],
 "metadata": {
  "kernelspec": {
   "display_name": "Python 3 (ipykernel)",
   "language": "python",
   "name": "python3"
  },
  "language_info": {
   "codemirror_mode": {
    "name": "ipython",
    "version": 3
   },
   "file_extension": ".py",
   "mimetype": "text/x-python",
   "name": "python",
   "nbconvert_exporter": "python",
   "pygments_lexer": "ipython3",
   "version": "3.8.16"
  }
 },
 "nbformat": 4,
 "nbformat_minor": 5
}
